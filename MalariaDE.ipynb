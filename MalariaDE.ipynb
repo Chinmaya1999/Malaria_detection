{
 "cells": [
  {
   "cell_type": "code",
   "execution_count": 2,
   "metadata": {},
   "outputs": [],
   "source": [
    "from keras.models import Sequential\n",
    "from keras.layers import Convolution2D\n",
    "from keras.layers import MaxPooling2D\n",
    "from keras.layers import Flatten\n",
    "from keras.layers import Dense\n",
    "import os\n",
    "import glob"
   ]
  },
  {
   "cell_type": "code",
   "execution_count": 3,
   "metadata": {},
   "outputs": [],
   "source": [
    "# Initialising the CNN\n",
    "classifier=Sequential()"
   ]
  },
  {
   "cell_type": "code",
   "execution_count": 4,
   "metadata": {},
   "outputs": [
    {
     "name": "stderr",
     "output_type": "stream",
     "text": [
      "C:\\ProgramData\\Anaconda3\\lib\\site-packages\\ipykernel_launcher.py:2: UserWarning: Update your `Conv2D` call to the Keras 2 API: `Conv2D(32, (3, 3), input_shape=(64, 64, 3..., activation=\"relu\")`\n",
      "  \n"
     ]
    }
   ],
   "source": [
    "# Step 1 - Convolution\n",
    "classifier.add(Convolution2D(32,3,3,input_shape=(64,64,3),activation='relu'))\n",
    "# Step 2 - Pooling\n",
    "classifier.add(MaxPooling2D(pool_size=(2, 2)))"
   ]
  },
  {
   "cell_type": "code",
   "execution_count": 5,
   "metadata": {},
   "outputs": [
    {
     "name": "stderr",
     "output_type": "stream",
     "text": [
      "C:\\ProgramData\\Anaconda3\\lib\\site-packages\\ipykernel_launcher.py:2: UserWarning: Update your `Conv2D` call to the Keras 2 API: `Conv2D(32, (3, 3), activation=\"relu\")`\n",
      "  \n"
     ]
    }
   ],
   "source": [
    "# Adding a second convolutional layer\n",
    "classifier.add(Convolution2D(32, 3, 3, activation = 'relu'))\n",
    "classifier.add(MaxPooling2D(pool_size = (2, 2)))"
   ]
  },
  {
   "cell_type": "code",
   "execution_count": 6,
   "metadata": {},
   "outputs": [],
   "source": [
    "# Step 3 - Flattening\n",
    "classifier.add(Flatten())"
   ]
  },
  {
   "cell_type": "code",
   "execution_count": 7,
   "metadata": {},
   "outputs": [
    {
     "name": "stderr",
     "output_type": "stream",
     "text": [
      "C:\\ProgramData\\Anaconda3\\lib\\site-packages\\ipykernel_launcher.py:2: UserWarning: Update your `Dense` call to the Keras 2 API: `Dense(activation=\"relu\", units=128)`\n",
      "  \n",
      "C:\\ProgramData\\Anaconda3\\lib\\site-packages\\ipykernel_launcher.py:3: UserWarning: Update your `Dense` call to the Keras 2 API: `Dense(activation=\"sigmoid\", units=1)`\n",
      "  This is separate from the ipykernel package so we can avoid doing imports until\n"
     ]
    }
   ],
   "source": [
    "# Step 4 - Full connection\n",
    "classifier.add(Dense(output_dim = 128, activation = 'relu'))\n",
    "classifier.add(Dense(output_dim = 1, activation = 'sigmoid'))"
   ]
  },
  {
   "cell_type": "code",
   "execution_count": 8,
   "metadata": {},
   "outputs": [],
   "source": [
    "# Compiling the CNN\n",
    "classifier.compile(optimizer = 'adam', loss = 'binary_crossentropy', metrics = ['accuracy'])"
   ]
  },
  {
   "cell_type": "code",
   "execution_count": 9,
   "metadata": {},
   "outputs": [
    {
     "name": "stdout",
     "output_type": "stream",
     "text": [
      "Model: \"sequential_1\"\n",
      "_________________________________________________________________\n",
      "Layer (type)                 Output Shape              Param #   \n",
      "=================================================================\n",
      "conv2d_1 (Conv2D)            (None, 62, 62, 32)        896       \n",
      "_________________________________________________________________\n",
      "max_pooling2d_1 (MaxPooling2 (None, 31, 31, 32)        0         \n",
      "_________________________________________________________________\n",
      "conv2d_2 (Conv2D)            (None, 29, 29, 32)        9248      \n",
      "_________________________________________________________________\n",
      "max_pooling2d_2 (MaxPooling2 (None, 14, 14, 32)        0         \n",
      "_________________________________________________________________\n",
      "flatten_1 (Flatten)          (None, 6272)              0         \n",
      "_________________________________________________________________\n",
      "dense_1 (Dense)              (None, 128)               802944    \n",
      "_________________________________________________________________\n",
      "dense_2 (Dense)              (None, 1)                 129       \n",
      "=================================================================\n",
      "Total params: 813,217\n",
      "Trainable params: 813,217\n",
      "Non-trainable params: 0\n",
      "_________________________________________________________________\n"
     ]
    }
   ],
   "source": [
    "classifier.summary()"
   ]
  },
  {
   "cell_type": "code",
   "execution_count": 10,
   "metadata": {},
   "outputs": [
    {
     "name": "stdout",
     "output_type": "stream",
     "text": [
      "Found 21558 images belonging to 2 classes.\n",
      "Found 6000 images belonging to 2 classes.\n"
     ]
    }
   ],
   "source": [
    "# Part 2 - Fitting the CNN to the images\n",
    "\n",
    "from keras.preprocessing.image import ImageDataGenerator\n",
    "\n",
    "train_datagen = ImageDataGenerator(rescale = 1./255,\n",
    "                                   shear_range = 0.2,\n",
    "                                   zoom_range = 0.2,\n",
    "                                   horizontal_flip = True)\n",
    "test_datagen = ImageDataGenerator(rescale = 1./255)\n",
    "\n",
    "training_set = train_datagen.flow_from_directory(r'D:\\MalariaDataset\\Train_set',\n",
    "                                                 target_size = (64, 64),\n",
    "                                                 batch_size = 32,\n",
    "                                                 class_mode = 'binary')\n",
    "\n",
    "test_set = test_datagen.flow_from_directory(r'D:\\MalariaDataset\\Test_set',\n",
    "                                            target_size = (64, 64),\n",
    "                                            batch_size = 32,\n",
    "                                            class_mode = 'binary')\n",
    "\n"
   ]
  },
  {
   "cell_type": "code",
   "execution_count": 11,
   "metadata": {},
   "outputs": [
    {
     "name": "stderr",
     "output_type": "stream",
     "text": [
      "C:\\ProgramData\\Anaconda3\\lib\\site-packages\\ipykernel_launcher.py:5: UserWarning: The semantics of the Keras 2 argument `steps_per_epoch` is not the same as the Keras 1 argument `samples_per_epoch`. `steps_per_epoch` is the number of batches to draw from the generator at each epoch. Basically steps_per_epoch = samples_per_epoch/batch_size. Similarly `nb_val_samples`->`validation_steps` and `val_samples`->`steps` arguments have changed. Update your method calls accordingly.\n",
      "  \"\"\"\n",
      "C:\\ProgramData\\Anaconda3\\lib\\site-packages\\ipykernel_launcher.py:5: UserWarning: Update your `fit_generator` call to the Keras 2 API: `fit_generator(<keras.pre..., validation_data=<keras.pre..., steps_per_epoch=673, epochs=25, validation_steps=6000)`\n",
      "  \"\"\"\n"
     ]
    },
    {
     "name": "stdout",
     "output_type": "stream",
     "text": [
      "Epoch 1/25\n",
      "673/673 [==============================] - 573s 852ms/step - loss: 0.4986 - accuracy: 0.7561 - val_loss: 0.4517 - val_accuracy: 0.8600\n",
      "Epoch 2/25\n",
      "673/673 [==============================] - 570s 847ms/step - loss: 0.2191 - accuracy: 0.9207 - val_loss: 0.2302 - val_accuracy: 0.9041\n",
      "Epoch 3/25\n",
      "673/673 [==============================] - 580s 862ms/step - loss: 0.1878 - accuracy: 0.9357 - val_loss: 0.2023 - val_accuracy: 0.9230\n",
      "Epoch 4/25\n",
      "673/673 [==============================] - 552s 820ms/step - loss: 0.1669 - accuracy: 0.9453 - val_loss: 0.0578 - val_accuracy: 0.9154\n",
      "Epoch 5/25\n",
      "673/673 [==============================] - 516s 767ms/step - loss: 0.1554 - accuracy: 0.9497 - val_loss: 0.3231 - val_accuracy: 0.9242\n",
      "Epoch 6/25\n",
      "673/673 [==============================] - 494s 734ms/step - loss: 0.1495 - accuracy: 0.9506 - val_loss: 0.0573 - val_accuracy: 0.9294\n",
      "Epoch 7/25\n",
      "673/673 [==============================] - 504s 749ms/step - loss: 0.1372 - accuracy: 0.9560 - val_loss: 0.0325 - val_accuracy: 0.9332\n",
      "Epoch 8/25\n",
      "673/673 [==============================] - 502s 745ms/step - loss: 0.1323 - accuracy: 0.9566 - val_loss: 0.0955 - val_accuracy: 0.9381\n",
      "Epoch 9/25\n",
      "673/673 [==============================] - 498s 739ms/step - loss: 0.1234 - accuracy: 0.9581 - val_loss: 0.0535 - val_accuracy: 0.9319\n",
      "Epoch 10/25\n",
      "673/673 [==============================] - 499s 741ms/step - loss: 0.1209 - accuracy: 0.9605 - val_loss: 0.0859 - val_accuracy: 0.9319 0.1208 - accura\n",
      "Epoch 11/25\n",
      "673/673 [==============================] - 502s 746ms/step - loss: 0.1171 - accuracy: 0.9612 - val_loss: 0.0991 - val_accuracy: 0.9341\n",
      "Epoch 12/25\n",
      "673/673 [==============================] - 499s 742ms/step - loss: 0.1123 - accuracy: 0.9621 - val_loss: 0.0634 - val_accuracy: 0.9451\n",
      "Epoch 13/25\n",
      "673/673 [==============================] - 498s 740ms/step - loss: 0.1118 - accuracy: 0.9624 - val_loss: 0.1269 - val_accuracy: 0.9367\n",
      "Epoch 14/25\n",
      "673/673 [==============================] - 498s 740ms/step - loss: 0.1082 - accuracy: 0.9620 - val_loss: 0.1974 - val_accuracy: 0.9376\n",
      "Epoch 15/25\n",
      "673/673 [==============================] - 501s 744ms/step - loss: 0.1058 - accuracy: 0.9640 - val_loss: 0.1265 - val_accuracy: 0.9412\n",
      "Epoch 16/25\n",
      "673/673 [==============================] - 501s 744ms/step - loss: 0.0981 - accuracy: 0.9655 - val_loss: 0.3971 - val_accuracy: 0.9234\n",
      "Epoch 17/25\n",
      "673/673 [==============================] - 502s 747ms/step - loss: 0.1016 - accuracy: 0.9651 - val_loss: 0.6109 - val_accuracy: 0.9395\n",
      "Epoch 18/25\n",
      "673/673 [==============================] - 503s 747ms/step - loss: 0.0991 - accuracy: 0.9668 - val_loss: 0.1578 - val_accuracy: 0.9428\n",
      "Epoch 19/25\n",
      "673/673 [==============================] - 503s 748ms/step - loss: 0.0974 - accuracy: 0.9667 - val_loss: 0.0705 - val_accuracy: 0.9381\n",
      "Epoch 20/25\n",
      "673/673 [==============================] - 504s 749ms/step - loss: 0.0937 - accuracy: 0.9671 - val_loss: 0.2719 - val_accuracy: 0.9432\n",
      "Epoch 21/25\n",
      "673/673 [==============================] - 502s 746ms/step - loss: 0.0942 - accuracy: 0.9677 - val_loss: 0.1300 - val_accuracy: 0.9433\n",
      "Epoch 22/25\n",
      "673/673 [==============================] - 504s 748ms/step - loss: 0.0924 - accuracy: 0.9691 - val_loss: 0.2551 - val_accuracy: 0.9393\n",
      "Epoch 23/25\n",
      "673/673 [==============================] - 502s 746ms/step - loss: 0.0922 - accuracy: 0.9692 - val_loss: 0.0327 - val_accuracy: 0.9418\n",
      "Epoch 24/25\n",
      "673/673 [==============================] - 504s 748ms/step - loss: 0.0905 - accuracy: 0.9683 - val_loss: 0.0195 - val_accuracy: 0.9426\n",
      "Epoch 25/25\n",
      "673/673 [==============================] - 505s 750ms/step - loss: 0.0870 - accuracy: 0.9706 - val_loss: 0.5231 - val_accuracy: 0.9409\n"
     ]
    },
    {
     "data": {
      "text/plain": [
       "<keras.callbacks.callbacks.History at 0x21716104320>"
      ]
     },
     "execution_count": 11,
     "metadata": {},
     "output_type": "execute_result"
    }
   ],
   "source": [
    "classifier.fit_generator(training_set,\n",
    "                         samples_per_epoch = 21558,\n",
    "                         nb_epoch = 25,\n",
    "                         validation_data = test_set,\n",
    "                         nb_val_samples = 6000)"
   ]
  },
  {
   "cell_type": "code",
   "execution_count": null,
   "metadata": {},
   "outputs": [],
   "source": []
  }
 ],
 "metadata": {
  "kernelspec": {
   "display_name": "Python 3",
   "language": "python",
   "name": "python3"
  },
  "language_info": {
   "codemirror_mode": {
    "name": "ipython",
    "version": 3
   },
   "file_extension": ".py",
   "mimetype": "text/x-python",
   "name": "python",
   "nbconvert_exporter": "python",
   "pygments_lexer": "ipython3",
   "version": "3.7.3"
  }
 },
 "nbformat": 4,
 "nbformat_minor": 2
}
